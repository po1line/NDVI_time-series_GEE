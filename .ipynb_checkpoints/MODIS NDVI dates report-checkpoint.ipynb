{
 "cells": [
  {
   "cell_type": "markdown",
   "id": "c1011104",
   "metadata": {},
   "source": [
    "# NDVI time series from daily MODIS data using GEE\n",
    "\n",
    "For this step GEE developer community tutorial was used, which is [Time Series Visualization with Altair](https://developers.google.com/earth-engine/tutorials/community/time-series-visualization-with-altair):\n",
    "\n",
    "This notebook contains following steps:\n",
    "1) libraries upload\n",
    "2) GEE authentification step\n",
    "3) necessary functions upload:\n",
    "* getting coordinates from geojson file\n",
    "* converting file to GEE Multipolygon\n",
    "* reducer function to get NDVI statistics from the region of interest (ROI)\n",
    "* transformation of reduced data to DataFrame with NDVI values and corresponding dates\n",
    "4) pilot regions' boundaries upload from [Geoboundaries](https://www.geoboundaries.org/)\n",
    "5) getting mean NDVI values for each day within ROI as dataframes for each pilot region\n",
    "6) interpolation of NDVI data\n",
    "7) collection of dates' diapasons that are representative for seasonal vegetation stages + packing them into geojson"
   ]
  },
  {
   "cell_type": "markdown",
   "id": "84dc6f81",
   "metadata": {},
   "source": [
    "## Preparation steps"
   ]
  },
  {
   "cell_type": "code",
   "execution_count": 6,
   "id": "a3430852",
   "metadata": {},
   "outputs": [],
   "source": [
    "#libraries\n",
    "import ee\n",
    "import pandas as pd\n",
    "import altair as alt \n",
    "import numpy as np\n",
    "import geemap.foliumap as geemap\n",
    "import folium\n",
    "\n",
    "import requests\n",
    "import json\n",
    "from geojson import Point, Feature, FeatureCollection, dump\n",
    "\n",
    "import matplotlib.pyplot as plt\n",
    "from scipy.signal import savgol_filter"
   ]
  },
  {
   "cell_type": "code",
   "execution_count": 9,
   "id": "50386b49",
   "metadata": {
    "scrolled": true
   },
   "outputs": [
    {
     "data": {
      "text/html": [
       "<p>To authorize access needed by Earth Engine, open the following\n",
       "        URL in a web browser and follow the instructions:</p>\n",
       "        <p><a href=https://code.earthengine.google.com/client-auth?scopes=https%3A//www.googleapis.com/auth/earthengine%20https%3A//www.googleapis.com/auth/devstorage.full_control&request_id=emxAK5TFx5bOgqcRWdzoAekQw-viO65feqJ-y9IP1YE&tc=_BZn4JoX3BPY7vMANr2aTxO3aFSWgs8GCKzPz2RCRTQ&cc=lp0Uy3xaCIuhVhuwiw3IKP5Fm1eps9uRl1eE-LBYq6s>https://code.earthengine.google.com/client-auth?scopes=https%3A//www.googleapis.com/auth/earthengine%20https%3A//www.googleapis.com/auth/devstorage.full_control&request_id=emxAK5TFx5bOgqcRWdzoAekQw-viO65feqJ-y9IP1YE&tc=_BZn4JoX3BPY7vMANr2aTxO3aFSWgs8GCKzPz2RCRTQ&cc=lp0Uy3xaCIuhVhuwiw3IKP5Fm1eps9uRl1eE-LBYq6s</a></p>\n",
       "        <p>The authorization workflow will generate a code, which you should paste in the box below.</p>\n",
       "        "
      ],
      "text/plain": [
       "<IPython.core.display.HTML object>"
      ]
     },
     "metadata": {},
     "output_type": "display_data"
    },
    {
     "name": "stdout",
     "output_type": "stream",
     "text": [
      "Enter verification code: 4/1AbUR2VM-UqHEOGD_9oiPzRlGIzxmFT91L8fZkgS7QI3uo0bspGpBddOyGdA\n",
      "\n",
      "Successfully saved authorization token.\n"
     ]
    }
   ],
   "source": [
    "#authorisation\n",
    "ee.Authenticate()"
   ]
  },
  {
   "cell_type": "code",
   "execution_count": 10,
   "id": "36c00df9",
   "metadata": {},
   "outputs": [],
   "source": [
    "ee.Initialize()"
   ]
  },
  {
   "cell_type": "code",
   "execution_count": 1,
   "id": "bac4e25d",
   "metadata": {},
   "outputs": [
    {
     "ename": "NameError",
     "evalue": "name 'ee' is not defined",
     "output_type": "error",
     "traceback": [
      "\u001b[0;31m---------------------------------------------------------------------------\u001b[0m",
      "\u001b[0;31mNameError\u001b[0m                                 Traceback (most recent call last)",
      "Cell \u001b[0;32mIn[1], line 5\u001b[0m\n\u001b[1;32m      1\u001b[0m \u001b[38;5;66;03m#functions\u001b[39;00m\n\u001b[1;32m      2\u001b[0m \n\u001b[1;32m      3\u001b[0m \u001b[38;5;66;03m#reducer\u001b[39;00m\n\u001b[1;32m      4\u001b[0m \u001b[38;5;28;01mdef\u001b[39;00m \u001b[38;5;21mcreate_reduce_region_function\u001b[39m(geometry,\n\u001b[0;32m----> 5\u001b[0m                                   reducer\u001b[38;5;241m=\u001b[39m\u001b[43mee\u001b[49m\u001b[38;5;241m.\u001b[39mReducer\u001b[38;5;241m.\u001b[39mmean(),\n\u001b[1;32m      6\u001b[0m                                   scale\u001b[38;5;241m=\u001b[39m\u001b[38;5;241m2000\u001b[39m,\n\u001b[1;32m      7\u001b[0m                                   crs\u001b[38;5;241m=\u001b[39m\u001b[38;5;124m'\u001b[39m\u001b[38;5;124mEPSG:4326\u001b[39m\u001b[38;5;124m'\u001b[39m,\n\u001b[1;32m      8\u001b[0m                                   bestEffort\u001b[38;5;241m=\u001b[39m\u001b[38;5;28;01mTrue\u001b[39;00m,\n\u001b[1;32m      9\u001b[0m                                   maxPixels\u001b[38;5;241m=\u001b[39m\u001b[38;5;241m1e18\u001b[39m,\n\u001b[1;32m     10\u001b[0m                                   tileScale\u001b[38;5;241m=\u001b[39m\u001b[38;5;241m4\u001b[39m):\n\u001b[1;32m     11\u001b[0m \u001b[38;5;250m  \u001b[39m\u001b[38;5;124;03m\"\"\"Creates a region reduction function.\u001b[39;00m\n\u001b[1;32m     12\u001b[0m \n\u001b[1;32m     13\u001b[0m \u001b[38;5;124;03m  Creates a region reduction function intended to be used as the input function\u001b[39;00m\n\u001b[0;32m   (...)\u001b[0m\n\u001b[1;32m     17\u001b[0m \n\u001b[1;32m     18\u001b[0m \u001b[38;5;124;03m  \"\"\"\u001b[39;00m\n\u001b[1;32m     20\u001b[0m   \u001b[38;5;28;01mdef\u001b[39;00m \u001b[38;5;21mreduce_region_function\u001b[39m(img):\n",
      "\u001b[0;31mNameError\u001b[0m: name 'ee' is not defined"
     ]
    }
   ],
   "source": [
    "#functions\n",
    "\n",
    "#reducer\n",
    "def create_reduce_region_function(geometry,\n",
    "                                  reducer=ee.Reducer.mean(),\n",
    "                                  scale=2000,\n",
    "                                  crs='EPSG:4326',\n",
    "                                  bestEffort=True,\n",
    "                                  maxPixels=1e18,\n",
    "                                  tileScale=4):\n",
    "  \"\"\"Creates a region reduction function.\n",
    "\n",
    "  Creates a region reduction function intended to be used as the input function\n",
    "  to ee.ImageCollection.map() for reducing pixels intersecting a provided region\n",
    "  to a statistic for each image in a collection. See ee.Image.reduceRegion()\n",
    "  documentation for more details.\n",
    "\n",
    "  \"\"\"\n",
    "\n",
    "  def reduce_region_function(img):\n",
    "    \"\"\"\n",
    "      Function returns\n",
    "      An ee.Feature that contains properties representing the image region\n",
    "      reduction results per band and the image timestamp formatted as\n",
    "      milliseconds from Unix epoch (included to enable time series plotting).\n",
    "    \"\"\"\n",
    "\n",
    "    stat = img.reduceRegion(\n",
    "        reducer=reducer,\n",
    "        geometry=geometry,\n",
    "        scale=scale,\n",
    "        crs=crs,\n",
    "        bestEffort=bestEffort,\n",
    "        maxPixels=maxPixels,\n",
    "        tileScale=tileScale)\n",
    "\n",
    "    return ee.Feature(geometry, stat).set({'millis': img.date().millis()})\n",
    "  return reduce_region_function\n",
    "\n",
    "#image properties to dictionary\n",
    "def fc_to_dict(fc):\n",
    "    prop_names = fc.first().propertyNames()\n",
    "    prop_lists = fc.reduceColumns(\n",
    "      reducer=ee.Reducer.toList().repeat(prop_names.size()),\n",
    "      selectors=prop_names).get('list')\n",
    "\n",
    "    return ee.Dictionary.fromLists(prop_names, prop_lists)\n",
    "\n",
    "# datestamps to categories\n",
    "def add_date_info(df):\n",
    "    df['Timestamp'] = pd.to_datetime(df['millis'], unit='ms')\n",
    "    df['Year'] = pd.DatetimeIndex(df['Timestamp']).year\n",
    "    df['Month'] = pd.DatetimeIndex(df['Timestamp']).month\n",
    "    df['Day'] = pd.DatetimeIndex(df['Timestamp']).day\n",
    "    df['DOY'] = pd.DatetimeIndex(df['Timestamp']).dayofyear\n",
    "    df['Week_Number'] = df['Timestamp'].dt.isocalendar().week\n",
    "    return df\n",
    "\n",
    "#getting df with daily NDVI by ROI\n",
    "def to_ndvi_df(reduce_region, scale=5000, crs='EPSG:4326'):\n",
    "    \n",
    "    reduce_ndvi = create_reduce_region_function(\n",
    "    geometry=reduce_region, reducer=ee.Reducer.mean(), scale=scale, crs=crs)\n",
    "    \n",
    "    stat_fc = ee.FeatureCollection(modisNDVI.map(reduce_ndvi)).filter(\n",
    "    ee.Filter.notNull(modisNDVI.first().bandNames()))\n",
    "    \n",
    "    dict_info = fc_to_dict(stat_fc).getInfo()\n",
    "    ndvi_df = pd.DataFrame(dict_info)\n",
    "    add_date_info(ndvi_df)\n",
    "    \n",
    "    return ndvi_df\n",
    "\n",
    "#getting coordinates from json file\n",
    "def return_coords_mp(dict_json):\n",
    "    multipolygon_coords = dict_json['geometry']['coordinates']\n",
    "    return multipolygon_coords\n",
    "#converting coordinates to GEE multipolygon\n",
    "def to_gee_multipolygon(multipolygon_coords):\n",
    "    poly = ee.Geometry.MultiPolygon(coords_list)\n",
    "    return poly"
   ]
  },
  {
   "cell_type": "markdown",
   "id": "6e33ad34",
   "metadata": {},
   "source": [
    "## Pilot regions data"
   ]
  },
  {
   "cell_type": "code",
   "execution_count": null,
   "id": "f6db5c70",
   "metadata": {},
   "outputs": [],
   "source": [
    "#all regions geojsons dowload\n",
    "ISO = 'RUS' # \"RUS\" is the ISO code for Russia\n",
    "ADM = 'ADM1' # Equivalent to administrative districts\n",
    "\n",
    "# Query geoBoundaries\n",
    "r = requests.get(\"https://www.geoboundaries.org/gbRequest.html?ISO={}&ADM={}\".format(ISO, ADM))\n",
    "dl_path = r.json()[0]['gjDownloadURL']\n",
    "\n",
    "geoboundaries = requests.get(dl_path).json()"
   ]
  },
  {
   "cell_type": "code",
   "execution_count": null,
   "id": "1b65d336",
   "metadata": {},
   "outputs": [],
   "source": [
    "#code search\n",
    "count=0\n",
    "regions_codes = pd.DataFrame()\n",
    "number_list = []\n",
    "region_list = []\n",
    "\n",
    "for feature in geoboundaries['features']:\n",
    "    count +=1\n",
    "    number_list.append(count-1) \n",
    "    region_list.append(feature['properties']['shapeName'])\n",
    "    regions_codes = pd.DataFrame({'number':number_list, 'region': region_list})\n",
    "regions_codes"
   ]
  },
  {
   "cell_type": "code",
   "execution_count": null,
   "id": "ab6712b7",
   "metadata": {},
   "outputs": [],
   "source": [
    "# selection of data of pilot regions\n",
    "altai_json = geoboundaries['features'][0]\n",
    "krasnoyarsk_json = geoboundaries['features'][9]\n",
    "moscow_reg_json = geoboundaries['features'][44]\n",
    "sakhalin_json = geoboundaries['features'][52]\n",
    "arkhangelsk_json = geoboundaries['features'][26]\n",
    "irkutsk_json = geoboundaries['features'][13]"
   ]
  },
  {
   "cell_type": "markdown",
   "id": "c2a8ebe2",
   "metadata": {},
   "source": [
    "## GEE MODIS collection parameters"
   ]
  },
  {
   "cell_type": "code",
   "execution_count": null,
   "id": "1e2072e4",
   "metadata": {},
   "outputs": [],
   "source": [
    "#initial params\n",
    "collection = 'MODIS/MOD09GA_006_NDVI' #daily MODIS data collection\n",
    "target_feature = 'NDVI' #\n",
    "startDate = '2022-01-01'\n",
    "endDate = '2022-12-31'"
   ]
  },
  {
   "cell_type": "code",
   "execution_count": null,
   "id": "f7463367",
   "metadata": {},
   "outputs": [],
   "source": [
    "modisNDVI = ee.ImageCollection(collection).select(target_feature).filterDate(startDate, endDate)"
   ]
  },
  {
   "cell_type": "code",
   "execution_count": null,
   "id": "828f57cf",
   "metadata": {},
   "outputs": [],
   "source": [
    "moscow_reg_all_coords = return_coords_mp(moscow_reg_json)\n",
    "sakhalin_all_coords = return_coords_mp(sakhalin_json)\n",
    "altai_all_coords = return_coords_mp(altai_json)\n",
    "arkh_all_coords = return_coords_mp(arkhangelsk_json)\n",
    "krasnoyarsk_all_coords = return_coords_mp(krasnoyarsk_json)\n",
    "irkutsk_all_coords = return_coords_mp(irkutsk_json)"
   ]
  },
  {
   "cell_type": "code",
   "execution_count": null,
   "id": "761d09d0",
   "metadata": {},
   "outputs": [],
   "source": [
    "polygon_moscow_reg = ee.Geometry.MultiPolygon(moscow_reg_all_coords)\n",
    "polygon_sakhalin = ee.Geometry.MultiPolygon(sakhalin_all_coords)\n",
    "polygon_altai = ee.Geometry.MultiPolygon(altai_all_coords)\n",
    "polygon_arkh = ee.Geometry.MultiPolygon(arkh_all_coords)\n",
    "polygon_kras = ee.Geometry.MultiPolygon(krasnoyarsk_all_coords)\n",
    "polygon_irk = ee.Geometry.MultiPolygon(irkutsk_all_coords)"
   ]
  },
  {
   "cell_type": "code",
   "execution_count": null,
   "id": "4c3ca8de",
   "metadata": {},
   "outputs": [],
   "source": [
    "Map = geemap.Map()\n",
    "Map.addLayer(polygon_arkh,{},'AOI_Arkhangelsk')\n",
    "Map.addLayer(polygon_moscow_reg,{},'AOI_Moscow')\n",
    "Map.addLayer(polygon_sakhalin,{},'AOI_Sakhalin')\n",
    "Map.addLayer(polygon_altai,{},'AOI_Altai')\n",
    "Map.addLayer(polygon_kras,{},'AOI_Krasnoyarsk')\n",
    "Map.addLayer(polygon_irk,{},'AOI_Irkutsk')\n",
    "Map.setCenter(89.34, 64.81,  3)\n",
    "Map"
   ]
  },
  {
   "cell_type": "markdown",
   "id": "1936efdb",
   "metadata": {},
   "source": [
    "It can be seen, that Arkhangelsk consist from continental and island parts that are likely very different in bioclimatic conditions. Thus, it would be more convenient to use only continental part of Arkhangelsk region."
   ]
  },
  {
   "cell_type": "code",
   "execution_count": null,
   "id": "601f601c",
   "metadata": {},
   "outputs": [],
   "source": [
    "f_continent_arkh = open('supplementary data/continent_arkh.geojson')\n",
    "continent_arkh = json.load(f_continent_arkh)\n",
    "polygon_arkh_continent = ee.Geometry.MultiPolygon(continent_arkh['features'][0]['geometry']['coordinates'])"
   ]
  },
  {
   "cell_type": "markdown",
   "id": "6170b877",
   "metadata": {},
   "source": [
    "## Getting mean daily NDVI data for pilot regions"
   ]
  },
  {
   "cell_type": "markdown",
   "id": "44a57d04",
   "metadata": {},
   "source": [
    "### Moscow region"
   ]
  },
  {
   "cell_type": "code",
   "execution_count": null,
   "id": "4c1d6d51",
   "metadata": {},
   "outputs": [],
   "source": [
    "moscow_ndvi_df = to_ndvi_df(polygon_moscow_reg)"
   ]
  },
  {
   "cell_type": "code",
   "execution_count": null,
   "id": "9b1cf500",
   "metadata": {
    "scrolled": false
   },
   "outputs": [],
   "source": [
    "grouped_by_week_msk = moscow_ndvi_df.groupby('Week_Number')['NDVI'].max().reset_index()\n",
    "#grouped_by_week\n",
    "\n",
    "\n",
    "plt.figure(figsize=(16,8))\n",
    "x = grouped_by_week_msk['Week_Number']\n",
    "y = grouped_by_week_msk['NDVI']\n",
    "yhat = savgol_filter(y, 42, 10)\n",
    "plt.plot(x,y)\n",
    "plt.plot(x,yhat, color='red')\n",
    "plt.title('Moscow region')\n",
    "plt.xlabel('Week')\n",
    "plt.ylabel('NDVI')\n"
   ]
  },
  {
   "cell_type": "code",
   "execution_count": null,
   "id": "8d3ac449",
   "metadata": {},
   "outputs": [],
   "source": [
    "grouped_by_week_msk['NDVI_savgol'] = savgol_filter(grouped_by_week_msk['NDVI'], 42, 10).round(2)"
   ]
  },
  {
   "cell_type": "markdown",
   "id": "5a4c7f15",
   "metadata": {},
   "source": [
    "### Sakhalin region"
   ]
  },
  {
   "cell_type": "code",
   "execution_count": null,
   "id": "cb063045",
   "metadata": {},
   "outputs": [],
   "source": [
    "sakhalin_ndvi_df = to_ndvi_df(polygon_sakhalin)\n",
    "#results plotting"
   ]
  },
  {
   "cell_type": "code",
   "execution_count": null,
   "id": "0a2dbedc",
   "metadata": {
    "scrolled": false
   },
   "outputs": [],
   "source": [
    "grouped_by_week_sakh = sakhalin_ndvi_df.groupby('Week_Number')['NDVI'].max().reset_index()\n",
    "#grouped_by_week\n",
    "\n",
    "\n",
    "plt.figure(figsize=(16,8))\n",
    "x = grouped_by_week_sakh['Week_Number']\n",
    "y = grouped_by_week_sakh['NDVI']\n",
    "yhat = savgol_filter(y, 50, 8)\n",
    "plt.plot(x,y)\n",
    "plt.plot(x,yhat, color='red')\n",
    "plt.title('Sakhalin region')\n",
    "plt.xlabel('Week')\n",
    "plt.ylabel('NDVI')\n",
    "plt.xticks(np.arange(min(grouped_by_week_sakh.Week_Number), max(grouped_by_week_sakh.Week_Number)+1, 1))\n",
    "plt.show()"
   ]
  },
  {
   "cell_type": "code",
   "execution_count": null,
   "id": "81734742",
   "metadata": {},
   "outputs": [],
   "source": [
    "grouped_by_week_sakh['NDVI_savgol'] = savgol_filter(grouped_by_week_sakh['NDVI'], 50, 8)"
   ]
  },
  {
   "cell_type": "markdown",
   "id": "57cec89d",
   "metadata": {},
   "source": [
    "### Irkutsk region"
   ]
  },
  {
   "cell_type": "code",
   "execution_count": null,
   "id": "b303681f",
   "metadata": {},
   "outputs": [],
   "source": [
    "irkutsk_ndvi_df = to_ndvi_df(polygon_irk)"
   ]
  },
  {
   "cell_type": "code",
   "execution_count": null,
   "id": "1a1e044d",
   "metadata": {},
   "outputs": [],
   "source": [
    "grouped_by_week_irk = irkutsk_ndvi_df.groupby('Week_Number')['NDVI'].max().reset_index()\n",
    "#grouped_by_week\n",
    "\n",
    "\n",
    "plt.figure(figsize=(16,8))\n",
    "x = grouped_by_week_irk['Week_Number']\n",
    "y = grouped_by_week_irk['NDVI']\n",
    "yhat = savgol_filter(y, 45, 8)\n",
    "plt.plot(x,y)\n",
    "plt.plot(x,yhat, color='red')\n",
    "plt.title('Arkhangelsk region')\n",
    "plt.xlabel('Week')\n",
    "plt.ylabel('NDVI')\n",
    "plt.xticks(np.arange(min(grouped_by_week_irk.Week_Number), max(grouped_by_week_irk.Week_Number)+1, 1))\n",
    "plt.show()"
   ]
  },
  {
   "cell_type": "code",
   "execution_count": null,
   "id": "4ee12c35",
   "metadata": {},
   "outputs": [],
   "source": [
    "grouped_by_week_irk['NDVI_savgol'] = savgol_filter(grouped_by_week_irk['NDVI'], 45, 8)"
   ]
  },
  {
   "cell_type": "markdown",
   "id": "397174a1",
   "metadata": {},
   "source": [
    "### Arkhangelsk region"
   ]
  },
  {
   "cell_type": "code",
   "execution_count": null,
   "id": "37f973a4",
   "metadata": {},
   "outputs": [],
   "source": [
    "arkhangelsk_ndvi_df = to_ndvi_df(polygon_arkh_continent)"
   ]
  },
  {
   "cell_type": "code",
   "execution_count": null,
   "id": "85606fe9",
   "metadata": {},
   "outputs": [],
   "source": [
    "grouped_by_week_ark = arkhangelsk_ndvi_df.groupby('Week_Number')['NDVI'].max().reset_index()\n",
    "#grouped_by_week\n",
    "\n",
    "\n",
    "plt.figure(figsize=(16,8))\n",
    "x = grouped_by_week_ark['Week_Number']\n",
    "y = grouped_by_week_ark['NDVI']\n",
    "yhat = savgol_filter(y, 51, 9)\n",
    "plt.plot(x,y)\n",
    "plt.plot(x,yhat, color='red')\n",
    "plt.title('Arkhangelsk region')\n",
    "plt.xlabel('Week')\n",
    "plt.ylabel('NDVI')\n",
    "plt.xticks(np.arange(min(grouped_by_week_ark.Week_Number), max(grouped_by_week_ark.Week_Number)+1, 1))\n",
    "plt.show()"
   ]
  },
  {
   "cell_type": "code",
   "execution_count": null,
   "id": "43cc2250",
   "metadata": {},
   "outputs": [],
   "source": [
    "grouped_by_week_ark['NDVI_savgol'] = savgol_filter(grouped_by_week_ark['NDVI'], 51, 9)"
   ]
  },
  {
   "cell_type": "markdown",
   "id": "9aad775c",
   "metadata": {},
   "source": [
    "### Altai region"
   ]
  },
  {
   "cell_type": "code",
   "execution_count": null,
   "id": "6a974696",
   "metadata": {},
   "outputs": [],
   "source": [
    "altai_ndvi_df = to_ndvi_df(polygon_altai)"
   ]
  },
  {
   "cell_type": "code",
   "execution_count": null,
   "id": "c21bcd8a",
   "metadata": {
    "scrolled": false
   },
   "outputs": [],
   "source": [
    "grouped_by_week_al = altai_ndvi_df.groupby('Week_Number')['NDVI'].max().reset_index()\n",
    "#grouped_by_week\n",
    "\n",
    "plt.figure(figsize=(16,8))\n",
    "x = grouped_by_week_al['Week_Number']\n",
    "y = grouped_by_week_al['NDVI']\n",
    "yhat = savgol_filter(y, 51, 10)\n",
    "plt.plot(x,y)\n",
    "plt.plot(x,yhat, color='red')\n",
    "plt.title('Altai region')\n",
    "plt.xlabel('Week')\n",
    "plt.ylabel('NDVI')\n",
    "plt.xticks(np.arange(min(grouped_by_week_al.Week_Number), max(grouped_by_week_al.Week_Number)+1, 1))\n",
    "plt.show()"
   ]
  },
  {
   "cell_type": "code",
   "execution_count": null,
   "id": "c0126e5d",
   "metadata": {},
   "outputs": [],
   "source": [
    "grouped_by_week_al['NDVI_savgol'] = savgol_filter(grouped_by_week_al['NDVI'], 51, 10)"
   ]
  },
  {
   "cell_type": "markdown",
   "id": "70c57516",
   "metadata": {},
   "source": [
    "## Reports with simple interpolation"
   ]
  },
  {
   "cell_type": "markdown",
   "id": "a9642e35",
   "metadata": {},
   "source": [
    "For vegetation periods during seasons the following rules can be suggested:\n",
    "* best summer days: week with interpolated NDVImax, 2 weeks before and 2 weeks after\n",
    "* best winter days: second half of January and first half of February\n",
    "* best spring days: week interpolated NDVI > 0.2 but <0.5\n",
    "* best autumn days: week interpolated NDVI <0.5 but >0.2\n",
    "\n",
    "boundaries of NDVI are chosen according to the assumption, that NDVI <0.1 corresponds to any forms of water"
   ]
  },
  {
   "cell_type": "code",
   "execution_count": null,
   "id": "968b9d40",
   "metadata": {},
   "outputs": [],
   "source": [
    "#report functions\n",
    "def get_summer_dates(week_df, daily_df):\n",
    "    idx_summer = week_df.loc[week_df['NDVI_savgol'] == week_df['NDVI_savgol'].max()].index\n",
    "    filtered_idx_after = (idx_summer+1).union(idx_summer+2)\n",
    "    filtered_idx_before = (idx_summer-1).union(idx_summer-2)\n",
    "    target_weeks = filtered_idx_before.append(idx_summer).append(filtered_idx_after)+1\n",
    "    summer_dates = daily_df.loc[daily_df['Week_Number'].isin(target_weeks)].iloc[[0, -1]].Timestamp.astype(str).tolist()\n",
    "    return summer_dates\n",
    "\n",
    "def get_spring_dates(week_df, daily_df):\n",
    "    target_weeks = week_df.loc[week_df['Week_Number']<=22].loc[(week_df['NDVI_savgol']>0.2)&(week_df['NDVI_savgol']<0.55)]['Week_Number'].tolist()\n",
    "    spring_dates = daily_df.loc[daily_df['Week_Number'].isin(target_weeks)].iloc[[0, -1]].Timestamp.astype(str).tolist()\n",
    "    return spring_dates\n",
    "\n",
    "def get_autumn_dates(week_df, daily_df):\n",
    "    target_weeks = week_df.loc[week_df['Week_Number']>=35].loc[(week_df['NDVI_savgol']>0.25)&(week_df['NDVI_savgol']<0.55)]['Week_Number'].tolist()\n",
    "    autumn_dates = daily_df.loc[daily_df['Week_Number'].isin(target_weeks)].iloc[[0, -1]].Timestamp.astype(str).tolist()\n",
    "    return autumn_dates\n",
    "\n",
    "def get_winter_dates(daily_df):\n",
    "    winter_dates = daily_df.loc[daily_df['DOY'].isin(range(15,55))].iloc[[0, -1]].Timestamp.astype(str).tolist()\n",
    "    return winter_dates\n",
    "\n",
    "def to_geojson(coords, week_df, daily_df):\n",
    "    file = {\n",
    "    'type':'Feature',     \n",
    "    'properties': {'summer': get_summer_dates(week_df, daily_df),\n",
    "                   'spring': get_spring_dates(week_df, daily_df),\n",
    "                   'autumn': get_autumn_dates(week_df, daily_df),\n",
    "                   'winter': get_winter_dates(daily_df)\n",
    "    },\n",
    "    'geometry': {\n",
    "    'type':'MultiPolygon',\n",
    "    'coordinates': coords\n",
    "    } \n",
    "    }    \n",
    "    return file   "
   ]
  },
  {
   "cell_type": "code",
   "execution_count": null,
   "id": "9c33b65a",
   "metadata": {},
   "outputs": [],
   "source": [
    "moscow_collection = to_geojson(moscow_reg_all_coords, grouped_by_week_msk, moscow_ndvi_df)\n",
    "sakhalin_collection = to_geojson(sakhalin_all_coords, grouped_by_week_sakh, sakhalin_ndvi_df)\n",
    "altai_collection = to_geojson(altai_all_coords, grouped_by_week_al, altai_ndvi_df)\n",
    "irkutsk_collection = to_geojson(irkutsk_all_coords, grouped_by_week_irk, irkutsk_ndvi_df)\n",
    "arkhangelsk_collection = to_geojson(arkh_all_coords, grouped_by_week_ark, arkhangelsk_ndvi_df)"
   ]
  },
  {
   "cell_type": "code",
   "execution_count": null,
   "id": "97432284",
   "metadata": {},
   "outputs": [],
   "source": [
    "with open('moscow_region_dates.geojson', 'w') as f:\n",
    "    dump(moscow_collection, f)\n",
    "\n",
    "with open('sakhalin_region_dates.geojson', 'w') as f:\n",
    "    dump(sakhalin_collection, f)\n",
    "\n",
    "with open('altai_region_dates.geojson', 'w') as f:\n",
    "    dump(altai_collection, f)\n",
    "    \n",
    "with open('irkutsk_region_dates.geojson', 'w') as f:\n",
    "    dump(irkutsk_collection, f)\n",
    "    \n",
    "with open('arkhangelsk_region_dates.geojson', 'w') as f:\n",
    "    dump(arkhangelsk_collection, f)"
   ]
  },
  {
   "cell_type": "markdown",
   "id": "9a70cb55",
   "metadata": {},
   "source": [
    "☀️"
   ]
  }
 ],
 "metadata": {
  "kernelspec": {
   "display_name": "geo",
   "language": "python",
   "name": "geo"
  },
  "language_info": {
   "codemirror_mode": {
    "name": "ipython",
    "version": 3
   },
   "file_extension": ".py",
   "mimetype": "text/x-python",
   "name": "python",
   "nbconvert_exporter": "python",
   "pygments_lexer": "ipython3",
   "version": "3.9.16"
  },
  "toc": {
   "base_numbering": 1,
   "nav_menu": {},
   "number_sections": true,
   "sideBar": true,
   "skip_h1_title": false,
   "title_cell": "Table of Contents",
   "title_sidebar": "Contents",
   "toc_cell": false,
   "toc_position": {},
   "toc_section_display": true,
   "toc_window_display": false
  }
 },
 "nbformat": 4,
 "nbformat_minor": 5
}
